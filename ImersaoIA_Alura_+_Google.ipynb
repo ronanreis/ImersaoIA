{
  "nbformat": 4,
  "nbformat_minor": 0,
  "metadata": {
    "colab": {
      "provenance": [],
      "authorship_tag": "ABX9TyNTQge6PcktQXkWiNG5feMT",
      "include_colab_link": true
    },
    "kernelspec": {
      "name": "python3",
      "display_name": "Python 3"
    },
    "language_info": {
      "name": "python"
    }
  },
  "cells": [
    {
      "cell_type": "markdown",
      "metadata": {
        "id": "view-in-github",
        "colab_type": "text"
      },
      "source": [
        "<a href=\"https://colab.research.google.com/github/ronanreis/ImersaoIA/blob/main/ImersaoIA_Alura_%2B_Google.ipynb\" target=\"_parent\"><img src=\"https://colab.research.google.com/assets/colab-badge.svg\" alt=\"Open In Colab\"/></a>"
      ]
    },
    {
      "cell_type": "markdown",
      "source": [
        "# **Projeto Imersão IA**"
      ],
      "metadata": {
        "id": "ql-raW6rZKzY"
      }
    },
    {
      "cell_type": "code",
      "execution_count": 47,
      "metadata": {
        "colab": {
          "base_uri": "https://localhost:8080/",
          "height": 55
        },
        "id": "i1iUFwJIDl2V",
        "outputId": "5f00a363-fd90-4716-b56e-79d02b94438b"
      },
      "outputs": [
        {
          "output_type": "stream",
          "name": "stdout",
          "text": [
            "{'Brinde': {'quantidade': 5, 'registros': [{'codigo_ligacao': '1715171082.200123'}, {'codigo_ligacao': '1715171468.200163'}, {'codigo_ligacao': '1715172951.200213'}]}, 'Supergasbras': {'quantidade': 2, 'registros': [{'codigo_ligacao': '1715171082.200123'}, {'codigo_ligacao': '1715171468.200163'}]}, 'Qualidade': {'quantidade': 0, 'registros': []}, 'Peso certo': {'quantidade': 0, 'registros': []}, 'Aplicativo': {'quantidade': 2, 'registros': [{'codigo_ligacao': '1715171082.200123'}, {'codigo_ligacao': '1715172951.200213'}]}, 'Whatsapp': {'quantidade': 2, 'registros': [{'codigo_ligacao': '1715172951.200213'}]}, 'Água Mineral': {'quantidade': 0, 'registros': []}, 'Registro': {'quantidade': 1, 'registros': [{'codigo_ligacao': '1715172951.200213'}]}, 'Bomba de água': {'quantidade': 0, 'registros': []}, 'Garantia': {'quantidade': 0, 'registros': []}, 'Aniversário': {'quantidade': 1, 'registros': [{'codigo_ligacao': '1715172951.200213'}]}, 'Instagram': {'quantidade': 0, 'registros': []}, 'Redes Sociais': {'quantidade': 0, 'registros': []}}\n"
          ]
        }
      ],
      "source": [
        "import google.generativeai as genai\n",
        "from google.colab import userdata\n",
        "import json\n",
        "\n",
        "GOOGLE_API_KEY = userdata.get('SECRET_KEY')\n",
        "genai.configure(api_key=GOOGLE_API_KEY)\n",
        "\n",
        "genaration_config = {\n",
        "    'candidate_count': 1,\n",
        "    'temperature': 0,\n",
        "}\n",
        "\n",
        "safety_settings = {\n",
        "    'HARASSMENT': 'BLOCK_NONE',\n",
        "    'HATE': 'BLOCK_NONE',\n",
        "    'SEXUAL': 'BLOCK_NONE',\n",
        "    'DANGEROUS': 'BLOCK_NONE',\n",
        "}\n",
        "\n",
        "model = genai.GenerativeModel(model_name='gemini-1.0-pro',\n",
        "                              generation_config=genaration_config,\n",
        "                              safety_settings=safety_settings)\n",
        "\n",
        "\n",
        "with open(\"dados_exemplo.json\", \"r\", encoding='utf8') as arquivo:\n",
        "    conteudo_exemplo = arquivo.read()\n",
        "\n",
        "with open(\"dados_1.json\", \"r\", encoding='utf8') as arquivo:\n",
        "    conteudo = arquivo.read()\n",
        "\n",
        "\n",
        "# Listas de palavras a serem procuradas dentro da extrura de retorno\n",
        "palavras = \"\"\"Brinde, Supergasbras, Qualidade,\n",
        "    Peso certo, Aplicativo, Whatsapp, Água Mineral, Registro,\n",
        "    Bomba de água, Garantia, Aniversário, Instagram, Redes Sociais aparece\n",
        "\"\"\"\n",
        "\n",
        "# exemplo de resposta requerida\n",
        "resposta = \"\"\"{\n",
        "  \"Brinde\": {\n",
        "    \"quantidade\": 5,\n",
        "    \"registros\": [\n",
        "      {\n",
        "        \"codigo_ligacao\": \"1715171082.200123\"\n",
        "      },\n",
        "      {\n",
        "        \"codigo_ligacao\": \"1715171468.200163\"\n",
        "      },\n",
        "      {\n",
        "        \"codigo_ligacao\": \"1715172951.200213\"\n",
        "      }\n",
        "    ]\n",
        "  },\n",
        "  \"Supergasbras\": {\n",
        "    \"quantidade\": 2,\n",
        "    \"registros\": [\n",
        "      {\n",
        "        \"codigo_ligacao\": \"1715171082.200123\"\n",
        "      },\n",
        "      {\n",
        "        \"codigo_ligacao\": \"1715171468.200163\"\n",
        "      }\n",
        "    ]\n",
        "  },\n",
        "  \"Qualidade\": {\n",
        "    \"quantidade\": 0,\n",
        "    \"registros\": []\n",
        "  },\n",
        "  \"Peso certo\": {\n",
        "    \"quantidade\": 0,\n",
        "    \"registros\": []\n",
        "  },\n",
        "  \"Aplicativo\": {\n",
        "    \"quantidade\": 2,\n",
        "    \"registros\": [\n",
        "      {\n",
        "        \"codigo_ligacao\": \"1715171082.200123\"\n",
        "      },\n",
        "      {\n",
        "        \"codigo_ligacao\": \"1715172951.200213\"\n",
        "      }\n",
        "    ]\n",
        "  },\n",
        "  \"Whatsapp\": {\n",
        "    \"quantidade\": 2,\n",
        "    \"registros\": [\n",
        "      {\n",
        "        \"codigo_ligacao\": \"1715172951.200213\"\n",
        "      }\n",
        "    ]\n",
        "  },\n",
        "  \"Água Mineral\": {\n",
        "    \"quantidade\": 0,\n",
        "    \"registros\": []\n",
        "  },\n",
        "  \"Registro\": {\n",
        "    \"quantidade\": 1,\n",
        "    \"registros\": [\n",
        "      {\n",
        "        \"codigo_ligacao\": \"1715172951.200213\"\n",
        "      }\n",
        "    ]\n",
        "  },\n",
        "  \"Bomba de água\": {\n",
        "    \"quantidade\": 0,\n",
        "    \"registros\": []\n",
        "  },\n",
        "  \"Garantia\": {\n",
        "    \"quantidade\": 0,\n",
        "    \"registros\": []\n",
        "  },\n",
        "  \"Aniversário\": {\n",
        "    \"quantidade\": 1,\n",
        "    \"registros\": [\n",
        "      {\n",
        "        \"codigo_ligacao\": \"1715172951.200213\"\n",
        "      }\n",
        "    ]\n",
        "  },\n",
        "  \"Instagram\": {\n",
        "    \"quantidade\": 0,\n",
        "    \"registros\": []\n",
        "  },\n",
        "  \"Redes Sociais\": {\n",
        "    \"quantidade\": 0,\n",
        "    \"registros\": []\n",
        "  }\n",
        "}\n",
        "\"\"\"\n",
        "\n",
        "# Formulçao do Prompt\n",
        "pergunta_pricipal = 'Pergunta: na lista representada pelo json, quantas vezes as palavras ' + palavras + 'aparecem? ' + conteudo + 'Resposta: ' + resposta + 'na lista representada pelo json, quantas vezes as palavras ' + palavras + 'aparecem? ' + conteudo_exemplo + 'Resposta: : '\n",
        "\n",
        "response = model.generate_content([pergunta_pricipal])\n",
        "\n",
        "resposta = response.text\n",
        "\n",
        "# Tratando a resposta para salva la em formato JSON\n",
        "\n",
        "resposta = resposta.replace('```json','')\n",
        "resposta = resposta.replace('```','')\n",
        "resposta = resposta.replace('\\n','')\n",
        "resposta.replace(\"'\", \"\\\"\")\n",
        "\n",
        "# Gerando o arquivo fisico\n",
        "d = json.loads(resposta)\n",
        "\n",
        "json_dados = json.dumps(d, indent=4, ensure_ascii=False)\n",
        "\n",
        "with open(\"dados_retorno.json\", \"w\", encoding='utf8') as arquivo:\n",
        "    arquivo.write(json_dados)\n",
        "\n",
        "print(\"Arquivo gerado!\")\n",
        "\n",
        "\n",
        "\n",
        "\n",
        "\n"
      ]
    },
    {
      "cell_type": "markdown",
      "source": [],
      "metadata": {
        "id": "_nAUHCqIZJBK"
      }
    },
    {
      "cell_type": "code",
      "source": [
        "\n",
        "\n",
        "\n"
      ],
      "metadata": {
        "id": "ueneanP8ErG-"
      },
      "execution_count": null,
      "outputs": []
    }
  ]
}